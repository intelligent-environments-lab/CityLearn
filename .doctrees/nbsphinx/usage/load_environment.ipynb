{
 "cells": [
  {
   "attachments": {},
   "cell_type": "markdown",
   "metadata": {},
   "source": [
    "<a href=\"https://colab.research.google.com/github/intelligent-environments-lab/CityLearn/blob/master/examples/load_environment.ipynb\" target=\"_parent\"><img src=\"https://colab.research.google.com/assets/colab-badge.svg\" alt=\"Open In Colab\"/></a>"
   ]
  },
  {
   "attachments": {},
   "cell_type": "markdown",
   "metadata": {},
   "source": [
    "# How to Load an Environment\n",
    "\n",
    "Install the latest CityLearn version from PyPi with the :code:`pip` command:"
   ]
  },
  {
   "cell_type": "code",
   "execution_count": null,
   "metadata": {},
   "outputs": [],
   "source": [
    "!pip install CityLearn"
   ]
  },
  {
   "attachments": {},
   "cell_type": "markdown",
   "metadata": {},
   "source": [
    "## Load an Environment Using Named Dataset\n",
    "\n",
    "CityLearn provides some data files that are contained in named datasets including those that have been used in [The CityLearn Challenge](https://intelligent-environments-lab.github.io/CityLearn/citylearn_challenge/index.html). These datasets names can be used in place of schema filepaths or `dict` objects to initialize an environment. To get the dataset names run:"
   ]
  },
  {
   "cell_type": "code",
   "execution_count": 1,
   "metadata": {},
   "outputs": [
    {
     "name": "stderr",
     "output_type": "stream",
     "text": [
      "INFO:root:The dataset names DNE in cache. Will download from intelligent-environments-lab/CityLearn GitHub repository and write to /Users/kingsleyenweye/Library/Caches/citylearn/v2.2.0/dataset_names.json. Next time DataSet.get_dataset_names is called, it will read from cache unless DataSet.clear_cache is run first.\n"
     ]
    },
    {
     "name": "stdout",
     "output_type": "stream",
     "text": [
      "['baeda_3dem', 'ca_alameda_county_neighborhood', 'citylearn_challenge_2020_climate_zone_1', 'citylearn_challenge_2020_climate_zone_2', 'citylearn_challenge_2020_climate_zone_3', 'citylearn_challenge_2020_climate_zone_4', 'citylearn_challenge_2021', 'citylearn_challenge_2022_phase_1', 'citylearn_challenge_2022_phase_2', 'citylearn_challenge_2022_phase_3', 'citylearn_challenge_2022_phase_all', 'citylearn_challenge_2022_phase_all_plus_evs', 'citylearn_challenge_2023_phase_1', 'citylearn_challenge_2023_phase_2_local_evaluation', 'citylearn_challenge_2023_phase_2_online_evaluation_1', 'citylearn_challenge_2023_phase_2_online_evaluation_2', 'citylearn_challenge_2023_phase_2_online_evaluation_3', 'citylearn_challenge_2023_phase_3_1', 'citylearn_challenge_2023_phase_3_2', 'citylearn_challenge_2023_phase_3_3', 'quebec_neighborhood_with_demand_response_set_points', 'quebec_neighborhood_without_demand_response_set_points', 'tx_travis_county_neighborhood', 'vt_chittenden_county_neighborhood']\n"
     ]
    }
   ],
   "source": [
    "from citylearn.data import DataSet\n",
    "\n",
    "dataset_names = DataSet().get_dataset_names()\n",
    "print(dataset_names)"
   ]
  },
  {
   "attachments": {},
   "cell_type": "markdown",
   "metadata": {},
   "source": [
    "Initialize the environment using any of the valid names:"
   ]
  },
  {
   "cell_type": "code",
   "execution_count": 2,
   "metadata": {},
   "outputs": [
    {
     "name": "stdout",
     "output_type": "stream",
     "text": [
      "Couldn't import dot_parser, loading of dot files will not be possible.\n"
     ]
    },
    {
     "name": "stderr",
     "output_type": "stream",
     "text": [
      "INFO:root:The citylearn_challenge_2020_climate_zone_1 dataset DNE in cache. Will download from intelligent-environments-lab/CityLearn GitHub repository and write to /Users/kingsleyenweye/Library/Caches/citylearn/v2.2.0/datasets. Next time DataSet.get_dataset('citylearn_challenge_2020_climate_zone_1') is called, it will read from cache unless DataSet.clear_cache is run first.\n",
      "INFO:root:The PV sizing data DNE in cache. Will download from intelligent-environments-lab/CityLearn GitHub repository and write to /Users/kingsleyenweye/Library/Caches/citylearn/v2.2.0/misc. Next time DataSet.get_pv_sizing_data is called, it will read from cache unless DataSet.clear_cache is run first.\n",
      "INFO:root:The battery sizing data DNE in cache. Will download from intelligent-environments-lab/CityLearn GitHub repository and write to /Users/kingsleyenweye/Library/Caches/citylearn/v2.2.0/misc. Next time DataSet.get_battery_sizing_data is called, it will read from cache unless DataSet.clear_cache is run first.\n"
     ]
    }
   ],
   "source": [
    "from citylearn.citylearn import CityLearnEnv\n",
    "    \n",
    "env = CityLearnEnv('citylearn_challenge_2020_climate_zone_1')"
   ]
  },
  {
   "attachments": {},
   "cell_type": "markdown",
   "metadata": {},
   "source": [
    "The dataset can also be download to a path of choice for inspection. The following code copies a dataset to the current directory:"
   ]
  },
  {
   "cell_type": "code",
   "execution_count": 3,
   "metadata": {},
   "outputs": [
    {
     "name": "stdout",
     "output_type": "stream",
     "text": [
      "Schema filepath: citylearn_dataset/citylearn_challenge_2020_climate_zone_1/schema.json\n"
     ]
    }
   ],
   "source": [
    "from citylearn.data import DataSet\n",
    "\n",
    "schema_filepath = DataSet().get_dataset('citylearn_challenge_2020_climate_zone_1', directory='citylearn_dataset')\n",
    "print('Schema filepath:', schema_filepath)"
   ]
  },
  {
   "attachments": {},
   "cell_type": "markdown",
   "metadata": {},
   "source": [
    "## Load an Environment Using Schema Filepath\n",
    "\n",
    "The [Schema](https://intelligent-environments-lab.github.io/CityLearn/overview/schema.html) filepath can be use to initialize an environment:"
   ]
  },
  {
   "cell_type": "code",
   "execution_count": 4,
   "metadata": {},
   "outputs": [],
   "source": [
    "from citylearn.citylearn import CityLearnEnv\n",
    "\n",
    "schema_filepath = 'citylearn_dataset/citylearn_challenge_2020_climate_zone_1/schema.json'\n",
    "env = CityLearnEnv(schema_filepath)"
   ]
  },
  {
   "cell_type": "markdown",
   "metadata": {},
   "source": [
    "This approach is best if using a custom [Dataset](https://intelligent-environments-lab.github.io/CityLearn/overview/dataset.html)."
   ]
  },
  {
   "cell_type": "markdown",
   "metadata": {},
   "source": [
    "## Load an Environment Using Schema Dictionary Object\n",
    "\n",
    "Alternatively, the schema can be supplied as a `dict` object. This approach can be used to edit the schema parameter values before constructing the environment. With this approach, the `root_directory` key-value must be explicitly set: See example below:"
   ]
  },
  {
   "cell_type": "code",
   "execution_count": null,
   "metadata": {},
   "outputs": [],
   "source": [
    "from citylearn.citylearn import CityLearnEnv\n",
    "from citylearn.utilities import FileHandler\n",
    "\n",
    "schema_filepath = 'citylearn_dataset/citylearn_challenge_2020_climate_zone_1/schema.json'\n",
    "schema = FileHandler.read_json(schema_filepath)\n",
    "schema['root_directory'] = 'citylearn_dataset/citylearn_challenge_2020_climate_zone_1'\n",
    "env = CityLearnEnv(schema)"
   ]
  },
  {
   "cell_type": "markdown",
   "metadata": {},
   "source": [
    "Some schema parameters can also be overriden by parsing them directly to the `citylearn.citylearn.CityLearnEnv` constructor:"
   ]
  },
  {
   "cell_type": "code",
   "execution_count": null,
   "metadata": {},
   "outputs": [],
   "source": [
    "from citylearn.citylearn import CityLearnEnv\n",
    "from citylearn.utilities import FileHandler\n",
    "\n",
    "schema_filepath = 'citylearn_dataset/citylearn_challenge_2020_climate_zone_1/schema.json'\n",
    "schema = FileHandler.read_json(schema_filepath)\n",
    "env = CityLearnEnv(\n",
    "    schema,\n",
    "    root_directory='citylearn_dataset/citylearn_challenge_2020_climate_zone_1',\n",
    "    central_agent=True,\n",
    "    simulation_start_time_step=10\n",
    ")"
   ]
  }
 ],
 "metadata": {
  "kernelspec": {
   "display_name": "test-py311-env",
   "language": "python",
   "name": "python3"
  },
  "language_info": {
   "codemirror_mode": {
    "name": "ipython",
    "version": 3
   },
   "file_extension": ".py",
   "mimetype": "text/x-python",
   "name": "python",
   "nbconvert_exporter": "python",
   "pygments_lexer": "ipython3",
   "version": "3.11.8"
  }
 },
 "nbformat": 4,
 "nbformat_minor": 2
}
